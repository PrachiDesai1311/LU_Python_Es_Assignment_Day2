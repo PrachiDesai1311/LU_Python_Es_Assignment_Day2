{
 "cells": [
  {
   "cell_type": "code",
   "execution_count": 11,
   "metadata": {},
   "outputs": [
    {
     "name": "stdout",
     "output_type": "stream",
     "text": [
      "The Sorted List with zeros at end :  [1, 1, 1, 2, 2, 3, 4, 4, 10, 56, 56, 0, 0, 0, 0, 0]\n"
     ]
    }
   ],
   "source": [
    "# Assignment 1: Sort given list into increasing order but all zeros should be at right side\n",
    "\n",
    "list1 = [0,1,2,10,4,1,0,56,2,0,1,3,0,56,0,4]\n",
    "list1.sort()\n",
    "list2 = [0]\n",
    "a = list1.count(0)\n",
    "list2 = list2 * a\n",
    "list1 = [ i for i in list1 if i != 0]\n",
    "\n",
    "print(\"The Sorted List with zeros at end : \",list1+list2)"
   ]
  },
  {
   "cell_type": "code",
   "execution_count": 14,
   "metadata": {},
   "outputs": [
    {
     "name": "stdout",
     "output_type": "stream",
     "text": [
      "Final Merge List : [5, 10, 15, 20, 25, 35, 40, 45, 60, 60, 70, 80]\n"
     ]
    }
   ],
   "source": [
    "\"\"\"Assignment 2: Merge 2 sorted list produce one sorted list but use only one loop either for or while only one time;\n",
    "                 don't use sort method\"\"\"\n",
    "\n",
    "list3 = [10,20,40,60,70,80]\n",
    "list4 = [5,15,25,35,45,60]\n",
    "list5 = list3 + list4\n",
    "list6 = []\n",
    "for i in range(len(list5)) :\n",
    "    a=min(list5)\n",
    "    list6.append(a)\n",
    "    list5.remove(a)\n",
    "print(\"Final Merge List :\",list6)"
   ]
  }
 ],
 "metadata": {
  "kernelspec": {
   "display_name": "Python 3",
   "language": "python",
   "name": "python3"
  },
  "language_info": {
   "codemirror_mode": {
    "name": "ipython",
    "version": 3
   },
   "file_extension": ".py",
   "mimetype": "text/x-python",
   "name": "python",
   "nbconvert_exporter": "python",
   "pygments_lexer": "ipython3",
   "version": "3.7.6"
  }
 },
 "nbformat": 4,
 "nbformat_minor": 4
}
