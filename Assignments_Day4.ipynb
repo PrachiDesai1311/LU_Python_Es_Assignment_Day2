{
 "cells": [
  {
   "cell_type": "code",
   "execution_count": 8,
   "metadata": {},
   "outputs": [
    {
     "name": "stdout",
     "output_type": "stream",
     "text": [
      "The word 'we' present in given string at index 5\n",
      "The word 'we' present in given string at index 14\n",
      "The word 'we' present in given string at index 25\n"
     ]
    }
   ],
   "source": [
    "# Assignment 1 : find all occurrence of substring in the given string\n",
    "\n",
    "str1 = \"what we think we become; we are Python Programmer\"\n",
    "\n",
    "loc =-1\n",
    "#loop while true\n",
    "\n",
    "while True :\n",
    "    # Advance loc by 1\n",
    "    loc = str1.find(\"we\",loc+1)\n",
    "    \n",
    "    # Break if not found\n",
    "    if loc == -1 :\n",
    "        break\n",
    "    \n",
    "    # Display\n",
    "    print(\"The word 'we' present in given string at index\",loc)"
   ]
  },
  {
   "cell_type": "code",
   "execution_count": 25,
   "metadata": {},
   "outputs": [
    {
     "name": "stdout",
     "output_type": "stream",
     "text": [
      "****Check whether given strings are lowercase or not****\n",
      "\n",
      "Given string Hello world ! is lowercase : False\n",
      "Given string hello 123 is lowercase : True\n",
      "Given string mynameisxyz is lowercase : True\n",
      "\n",
      "****Check whether given strings are uppercase or not****\n",
      "\n",
      "Given string HELLO WORLD is lowercase : True\n",
      "Given string welcome to letsupgrade is lowercase : False\n",
      "Given string GOOGLE.COM@ is lowercase : True\n"
     ]
    }
   ],
   "source": [
    "# Assignment 2 : islower() --->with different kind of strings and isupper()\n",
    "\n",
    "a = \"Hello world !\"\n",
    "b = \"hello 123\"\n",
    "c = \"mynameisxyz\"\n",
    "\n",
    "# Use of islower()\n",
    "print(\"****Check whether given strings are lowercase or not****\")\n",
    "print(\"\\nGiven string\",a,\"is lowercase :\",a.islower())\n",
    "print(\"Given string\",b,\"is lowercase :\",b.islower())\n",
    "print(\"Given string\",c,\"is lowercase :\",c.islower())\n",
    "\n",
    "d = \"HELLO WORLD\"\n",
    "e = \"welcome to letsupgrade\"\n",
    "f = \"GOOGLE.COM@\"\n",
    "\n",
    "# Use of isupper()\n",
    "print(\"\\n****Check whether given strings are uppercase or not****\")\n",
    "print(\"\\nGiven string\",d,\"is uppercase :\",d.isupper())\n",
    "print(\"Given string\",e,\"is uppercase :\",e.isupper())\n",
    "print(\"Given string\",f,\"is uppercase :\",f.isupper())\n"
   ]
  },
  {
   "cell_type": "code",
   "execution_count": null,
   "metadata": {},
   "outputs": [],
   "source": []
  }
 ],
 "metadata": {
  "kernelspec": {
   "display_name": "Python 3",
   "language": "python",
   "name": "python3"
  },
  "language_info": {
   "codemirror_mode": {
    "name": "ipython",
    "version": 3
   },
   "file_extension": ".py",
   "mimetype": "text/x-python",
   "name": "python",
   "nbconvert_exporter": "python",
   "pygments_lexer": "ipython3",
   "version": "3.7.6"
  }
 },
 "nbformat": 4,
 "nbformat_minor": 4
}
