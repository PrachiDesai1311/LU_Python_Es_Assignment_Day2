{
 "cells": [
  {
   "cell_type": "code",
   "execution_count": 4,
   "metadata": {},
   "outputs": [
    {
     "name": "stdout",
     "output_type": "stream",
     "text": [
      "The Final Dictionary : {'FTP': 21, 'SSH': 22, 'Telnet': 23, 'HTTP': 80}\n"
     ]
    }
   ],
   "source": [
    "# Assignment 1 : Create new dictionary in which keys becomes values & values becomes keys\n",
    "\n",
    "dict1 = {21:\"FTP\",22:\"SSH\",23:\"Telnet\",80:\"HTTP\"}\n",
    "dict2 = {v:k for k,v in dict1.items()}\n",
    "print(\"The Final Dictionary :\",dict2)"
   ]
  },
  {
   "cell_type": "code",
   "execution_count": 6,
   "metadata": {},
   "outputs": [
    {
     "name": "stdout",
     "output_type": "stream",
     "text": [
      "[3, 7, 11, 9]\n"
     ]
    }
   ],
   "source": [
    "# Assignment 2 : Make new list which contain sum of tuple\n",
    "\n",
    "list1 = [(1,2),(3,4),(5,6),(4,5)]\n",
    "val = [sum(i) for i in list1]\n",
    "print(val)"
   ]
  },
  {
   "cell_type": "code",
   "execution_count": 8,
   "metadata": {},
   "outputs": [
    {
     "name": "stdout",
     "output_type": "stream",
     "text": [
      "The Result : [1, 2, 3, 1, 2, 'a', 'hit', 'less']\n"
     ]
    }
   ],
   "source": [
    "# Assignment 3 : To make elements in inner list & tuple to outer list\n",
    "\n",
    "list1 = [(1,2,3),[1,2],['a','hit','less']]\n",
    "list2 =[i for each in list1 for i in each]\n",
    "print(\"The Result :\",list2)"
   ]
  },
  {
   "cell_type": "code",
   "execution_count": null,
   "metadata": {},
   "outputs": [],
   "source": []
  }
 ],
 "metadata": {
  "kernelspec": {
   "display_name": "Python 3",
   "language": "python",
   "name": "python3"
  },
  "language_info": {
   "codemirror_mode": {
    "name": "ipython",
    "version": 3
   },
   "file_extension": ".py",
   "mimetype": "text/x-python",
   "name": "python",
   "nbconvert_exporter": "python",
   "pygments_lexer": "ipython3",
   "version": "3.7.6"
  }
 },
 "nbformat": 4,
 "nbformat_minor": 4
}
