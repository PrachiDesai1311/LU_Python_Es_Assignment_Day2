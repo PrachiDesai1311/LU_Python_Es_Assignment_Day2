{
 "cells": [
  {
   "cell_type": "code",
   "execution_count": 1,
   "metadata": {},
   "outputs": [
    {
     "name": "stdout",
     "output_type": "stream",
     "text": [
      "10 ---> 10\n",
      "9 ---> 19\n",
      "8 ---> 27\n",
      "7 ---> 34\n",
      "6 ---> 40\n",
      "5 ---> 45\n",
      "4 ---> 49\n",
      "3 ---> 52\n",
      "2 ---> 54\n",
      "1 ---> 55\n",
      "Final Sum of N numbers 55\n"
     ]
    }
   ],
   "source": [
    "# Q.1 : Sum of N numbers with help of While Loop\n",
    "\n",
    "n = 10\n",
    "sum1 = 0\n",
    "while n > 0 :\n",
    "    sum1 = sum1 + n\n",
    "    print(n,\"--->\",sum1)\n",
    "    n = n - 1\n",
    "   \n",
    "print(\"Final Sum of N numbers\",sum1)\n",
    "\n"
   ]
  },
  {
   "cell_type": "code",
   "execution_count": 2,
   "metadata": {},
   "outputs": [
    {
     "name": "stdout",
     "output_type": "stream",
     "text": [
      "Enter a integer number : 47\n",
      "47 The given number is a Prime Number\n"
     ]
    }
   ],
   "source": [
    "# Q.2 : Take a integer and find-->Prime or not\n",
    "\n",
    "num=int(input(\"Enter a integer number : \"))\n",
    "\n",
    "# Prime number is always greater than 1\n",
    "\n",
    "if num > 1:\n",
    "    for i in range (2,num) :\n",
    "        if (num % i) == 0 :\n",
    "            print(num,\"The given number is not a Prime Number\")\n",
    "            break\n",
    "    else:\n",
    "        print(num,\"The given number is a Prime Number\")\n",
    "        \n",
    "# If entered number is less than or equal to 1\n",
    "else:\n",
    "       print(num,\"The given number is not a Prime Number\")\n",
    "    "
   ]
  },
  {
   "cell_type": "code",
   "execution_count": null,
   "metadata": {},
   "outputs": [],
   "source": []
  }
 ],
 "metadata": {
  "kernelspec": {
   "display_name": "Python 3",
   "language": "python",
   "name": "python3"
  },
  "language_info": {
   "codemirror_mode": {
    "name": "ipython",
    "version": 3
   },
   "file_extension": ".py",
   "mimetype": "text/x-python",
   "name": "python",
   "nbconvert_exporter": "python",
   "pygments_lexer": "ipython3",
   "version": "3.7.6"
  }
 },
 "nbformat": 4,
 "nbformat_minor": 4
}
